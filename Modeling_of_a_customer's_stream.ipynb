{
  "nbformat": 4,
  "nbformat_minor": 0,
  "metadata": {
    "colab": {
      "provenance": [],
      "authorship_tag": "ABX9TyObRzuii7RA5HvxGMvAwVgj",
      "include_colab_link": true
    },
    "kernelspec": {
      "name": "python3",
      "display_name": "Python 3"
    },
    "language_info": {
      "name": "python"
    }
  },
  "cells": [
    {
      "cell_type": "markdown",
      "metadata": {
        "id": "view-in-github",
        "colab_type": "text"
      },
      "source": [
        "<a href=\"https://colab.research.google.com/github/paolo0o0/Orders/blob/main/Modeling_of_a_customer's_stream.ipynb\" target=\"_parent\"><img src=\"https://colab.research.google.com/assets/colab-badge.svg\" alt=\"Open In Colab\"/></a>"
      ]
    },
    {
      "cell_type": "code",
      "source": [
        "%pip install simpy\n",
        "import simpy\n",
        "import random\n",
        "import csv\n",
        "import numpy as np\n",
        "import pandas as pd\n",
        "import matplotlib.pyplot as plt\n",
        "\n",
        "max_queue_per_sec = []\n",
        "''' Создадим класс кинотеатр, ресурсами в котором будут кассы для покупки\n",
        "билетов, пункты досмотра и кинозалы. А также три процесса: покупка билета,\n",
        "прохождение пункта досмотра и проверка билета при входе в кинозал'''\n",
        "\n",
        "class Cinema(object):\n",
        "    def __init__(self, env, N_tickets_desk, N_security,\n",
        "                 N_rooms, T_tickets, T_security, T_room_entrance):\n",
        "        self.tickets_desk = simpy.Resource(env, capacity=N_tickets_desk)\n",
        "        self.security = simpy.Resource(env, capacity=N_security)\n",
        "        self.room = simpy.Resource(env, capacity=N_rooms)\n",
        "\n",
        "        self.env = env\n",
        "        self.T_tickets = T_tickets\n",
        "        self.T_security = T_security\n",
        "        self.T_room_entrance = T_room_entrance\n",
        "\n",
        "    def buy_ticket(self, customer):\n",
        "        # Обслуживание занимает T_tickets секунд\n",
        "        yield self.env.timeout(self.T_tickets)\n",
        "\n",
        "    def get_checked(self, customer):\n",
        "        # Досмотр занимает T_security секунд\n",
        "        yield self.env.timeout(self.T_security)\n",
        "\n",
        "    def enter_the_room(self, customer):\n",
        "        # Проверка билета на входе в кинозал занимает T_roome_entrance секунд\n",
        "        yield self.env.timeout(self.T_room_entrance)\n",
        "\n",
        "def compare_queue(resource, max):\n",
        "    if len(resource.queue) > max:\n",
        "        max = len(resource.queue)\n",
        "    return max\n",
        "\n",
        "# Создадим функцию, которая будет отвечать за поведение посетителя кинотеатра\n",
        "def go_to_the_cinema(env, customer, cinema):\n",
        "    # Запрос к ресурсу касс для покупки билетов\n",
        "    with cinema.tickets_desk.request() as request:\n",
        "        yield request\n",
        "        yield env.process(cinema.buy_ticket(customer))\n",
        "    # Запрос к ресурсу пунктов досмотра\n",
        "    with cinema.security.request() as request:\n",
        "        yield request\n",
        "        yield env.process(cinema.get_checked(customer))\n",
        "    # Запрос к ресурсу кинозалов\n",
        "    with cinema.room.request() as request:\n",
        "        yield request\n",
        "        yield env.process(cinema.enter_the_room(customer))\n",
        "\n",
        "# Создадим функцию генерации нормального распределения посетителей во времени\n",
        "def normal_distribution(N, M):\n",
        "    mean_objects_per_bin = N / M\n",
        "    std_dev = 2\n",
        "    distribution = np.random.normal(mean_objects_per_bin, std_dev, M)\n",
        "    distribution = [int(max(0, round(x))) for x in distribution]\n",
        "\n",
        "    while sum(distribution) != N:\n",
        "        if sum(distribution) > N:\n",
        "            for i in range(M):\n",
        "                if distribution[i] > 0:\n",
        "                    distribution[i] -= 1\n",
        "                    if sum(distribution) == N:\n",
        "                        break\n",
        "        else:\n",
        "            for i in range(M):\n",
        "                distribution[i] += 1\n",
        "                if sum(distribution) == N:\n",
        "                    break\n",
        "    return distribution\n",
        "\n",
        "# Создадим функцию для запуска моделирования\n",
        "def run_cinema(env, N_tickets_desk, N_security, N_rooms, T_tickets,\n",
        "               T_security, T_room_entrance, T_before_start):\n",
        "    # Считаем csv файл\n",
        "    columns = ['room', 'start_time', 'number']\n",
        "    data = pd.read_csv('cinema.csv', names=columns)\n",
        "\n",
        "    cinema = Cinema(env, N_tickets_desk, N_security,\n",
        "                    N_rooms, T_tickets, T_security, T_room_entrance)\n",
        "\n",
        "    '''Заполним словарь из нормальных распределений посетителей во времени\n",
        "     для каждого сеанса'''\n",
        "    customers_per_sec = {i: normal_distribution(\n",
        "        int(data.iloc[i, 2]), T_before_start * 60) for i in range(data.shape[0])}\n",
        "\n",
        "    '''Список с временем начала прихода людей к каждому сеансу в секундах\n",
        "    (Люди начинают приходить за T_before_start * 60 секунд до начала сеанса)'''\n",
        "    start_time = []\n",
        "    for j in range(data.shape[0]):\n",
        "        start_time.append(\n",
        "            ((int(data['start_time'][j][:3]) * 60 +\n",
        "             int(data['start_time'][j][4:])) - T_before_start) * 60)\n",
        "\n",
        "    '''Создадим список, элементами в котором будет количество людей,\n",
        "    пришедших в кинотеатр каждую секунду'''\n",
        "    customers = np.zeros((start_time[data.shape[0] - 1] + 2 * T_before_start * 60) -\n",
        "                          start_time[0], dtype=int)\n",
        "\n",
        "    '''Заполняем список customers значениями из списка customers_per_sec\n",
        "    для тех промежутков времени, когда посетителю приходят на сеанс'''\n",
        "    for sec in range(start_time[0],\n",
        "                     start_time[data.shape[0] - 1] + 2 * T_before_start * 60):\n",
        "        for i in range(data.shape[0]):\n",
        "            if sec == start_time[i]:\n",
        "                customers[sec - start_time[0]\n",
        "                          : sec - start_time[0] + T_before_start * 60] \\\n",
        "                          = customers_per_sec[i]\n",
        "    '''Проходимся по всему промежутку времени, и запускаем процесс\n",
        "    только для тех секунд, в которые приходят посетители'''\n",
        "    customer = 0\n",
        "    for item in customers:\n",
        "        yield env.timeout(1)\n",
        "        max_queue_per_sec.append(max(len(cinema.tickets_desk.queue),\n",
        "                                     len(cinema.security.queue),\n",
        "                                     len(cinema.room.queue)))\n",
        "        if item > 0:\n",
        "            for i in range(item):\n",
        "               customer += 1\n",
        "               env.process(go_to_the_cinema(env, customer, cinema))"
      ],
      "metadata": {
        "id": "xdt85acT7tAX",
        "colab": {
          "base_uri": "https://localhost:8080/"
        },
        "outputId": "87ec9b5a-6d95-4f2a-ba0b-80b5b698aaac"
      },
      "execution_count": 266,
      "outputs": [
        {
          "output_type": "stream",
          "name": "stdout",
          "text": [
            "Requirement already satisfied: simpy in /usr/local/lib/python3.10/dist-packages (4.1.1)\n"
          ]
        }
      ]
    },
    {
      "cell_type": "code",
      "source": [
        "# Задаём все необходимые параметры\n",
        "max_queue_per_sec = []\n",
        "N_tickets_desk = 15\n",
        "N_security = 7\n",
        "N_rooms = 1\n",
        "T_tickets = 60\n",
        "T_security = 60\n",
        "T_room_entrance = 10\n",
        "T_before_start = 45\n",
        "\n",
        "# Создаём среду и запускаем наш кинотеатр\n",
        "env = simpy.Environment()\n",
        "env.process(run_cinema(env, N_tickets_desk, N_security,\n",
        "                       N_rooms, T_tickets, T_security,\n",
        "                       T_room_entrance, T_before_start))\n",
        "env.run()\n"
      ],
      "metadata": {
        "id": "vLydChSpdCp9"
      },
      "execution_count": 267,
      "outputs": []
    },
    {
      "cell_type": "code",
      "source": [
        "'''Находим число 15 минутных интервалов, которые целиком помещаются\n",
        "в наш временной промежуток наблюдения'''\n",
        "size = len(max_queue_per_sec) // (15 * 60)\n",
        "\n",
        "# Вычисляем длину оставшегося неполного интервала\n",
        "remains = len(max_queue_per_sec) - size * 15 * 60\n",
        "max_queue = []\n",
        "\n",
        "'''Проходимся по всем 15 минутным пачкам и вычисляем максимальную\n",
        " длину очереди за данных интервал'''\n",
        "for batch in range(size):\n",
        "    max_queue.append(\n",
        "        max(max_queue_per_sec[batch * 15 * 60 : (batch + 1) * 15 * 60]))\n",
        "if remains != 0:\n",
        "     max_queue.append(\n",
        "          max(max_queue_per_sec[size * 15 * 60 : len(max_queue_per_sec)]))"
      ],
      "metadata": {
        "id": "I9UFrZy1UZvX"
      },
      "execution_count": 268,
      "outputs": []
    },
    {
      "cell_type": "code",
      "source": [
        "# Строим график\n",
        "plt.plot(np.arange(len(max_queue)) + 1, max_queue,\n",
        "         linewidth=2, color='r')\n",
        "plt.title('График длины очередей')\n",
        "plt.xlabel('Время 15 минутными отрезками')\n",
        "plt.ylabel('Максимальная длина очереди за 15 минутный интервал')\n",
        "plt.show()"
      ],
      "metadata": {
        "id": "SmoXIzfhKI84",
        "outputId": "6af02521-aed3-4e61-c493-a9653010e09b",
        "colab": {
          "base_uri": "https://localhost:8080/",
          "height": 472
        }
      },
      "execution_count": 269,
      "outputs": [
        {
          "output_type": "display_data",
          "data": {
            "text/plain": [
              "<Figure size 640x480 with 1 Axes>"
            ],
            "image/png": "[encoded data removed]"
          },
          "metadata": {}
        }
      ]
    }
  ]
}