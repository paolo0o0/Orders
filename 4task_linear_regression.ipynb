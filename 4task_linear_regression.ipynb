{
  "nbformat": 4,
  "nbformat_minor": 0,
  "metadata": {
    "colab": {
      "provenance": [],
      "authorship_tag": "ABX9TyNtOu/jHEy5WdrPF5vznTk3",
      "include_colab_link": true
    },
    "kernelspec": {
      "name": "python3",
      "display_name": "Python 3"
    },
    "language_info": {
      "name": "python"
    }
  },
  "cells": [
    {
      "cell_type": "markdown",
      "metadata": {
        "id": "view-in-github",
        "colab_type": "text"
      },
      "source": [
        "<a href=\"https://colab.research.google.com/github/paolo0o0/Orders/blob/main/4task_linear_regression.ipynb\" target=\"_parent\"><img src=\"https://colab.research.google.com/assets/colab-badge.svg\" alt=\"Open In Colab\"/></a>"
      ]
    },
    {
      "cell_type": "markdown",
      "source": [
        "# Домашнее задание 4\n",
        "**Линейная регрессия**"
      ],
      "metadata": {
        "id": "BKyhRbrQJfAN"
      }
    },
    {
      "cell_type": "markdown",
      "source": [
        "Загрузим все необходимые библиотеки и датасет load_diabetes"
      ],
      "metadata": {
        "id": "VPn47yduJgyE"
      }
    },
    {
      "cell_type": "code",
      "execution_count": 36,
      "metadata": {
        "id": "OhOIDnjjIwHm"
      },
      "outputs": [],
      "source": [
        "import sklearn\n",
        "import pandas as pd\n",
        "import numpy as np\n",
        "import matplotlib.pyplot as plt\n",
        "from sklearn import datasets\n",
        "from sklearn.datasets import load_diabetes\n",
        "from sklearn.model_selection import train_test_split\n",
        "import warnings\n",
        "warnings.filterwarnings('ignore')"
      ]
    },
    {
      "cell_type": "markdown",
      "source": [
        "Загрузим матрицу признаков и вектор таргетов, как DataFrame, затем посмотрим на наши данные"
      ],
      "metadata": {
        "id": "DacwnBKSKHH3"
      }
    },
    {
      "cell_type": "code",
      "source": [
        "X, y = datasets.load_diabetes(return_X_y=True, as_frame=True)\n",
        "print(X.shape, y.shape)\n",
        "X.head()"
      ],
      "metadata": {
        "colab": {
          "base_uri": "https://localhost:8080/",
          "height": 224
        },
        "id": "5cTyDeE-KGno",
        "outputId": "0ebd8729-27a3-446b-84e7-70d7c59016e1"
      },
      "execution_count": 37,
      "outputs": [
        {
          "output_type": "stream",
          "name": "stdout",
          "text": [
            "(442, 10) (442,)\n"
          ]
        },
        {
          "output_type": "execute_result",
          "data": {
            "text/plain": [
              "        age       sex       bmi        bp        s1        s2        s3  \\\n",
              "0  0.038076  0.050680  0.061696  0.021872 -0.044223 -0.034821 -0.043401   \n",
              "1 -0.001882 -0.044642 -0.051474 -0.026328 -0.008449 -0.019163  0.074412   \n",
              "2  0.085299  0.050680  0.044451 -0.005670 -0.045599 -0.034194 -0.032356   \n",
              "3 -0.089063 -0.044642 -0.011595 -0.036656  0.012191  0.024991 -0.036038   \n",
              "4  0.005383 -0.044642 -0.036385  0.021872  0.003935  0.015596  0.008142   \n",
              "\n",
              "         s4        s5        s6  \n",
              "0 -0.002592  0.019907 -0.017646  \n",
              "1 -0.039493 -0.068332 -0.092204  \n",
              "2 -0.002592  0.002861 -0.025930  \n",
              "3  0.034309  0.022688 -0.009362  \n",
              "4 -0.002592 -0.031988 -0.046641  "
            ],
            "text/html": [
              "\n",
              "  <div id=\"df-467c4d73-8192-4966-b5a8-5f6b5d68de03\" class=\"colab-df-container\">\n",
              "    <div>\n",
              "<style scoped>\n",
              "    .dataframe tbody tr th:only-of-type {\n",
              "        vertical-align: middle;\n",
              "    }\n",
              "\n",
              "    .dataframe tbody tr th {\n",
              "        vertical-align: top;\n",
              "    }\n",
              "\n",
              "    .dataframe thead th {\n",
              "        text-align: right;\n",
              "    }\n",
              "</style>\n",
              "<table border=\"1\" class=\"dataframe\">\n",
              "  <thead>\n",
              "    <tr style=\"text-align: right;\">\n",
              "      <th></th>\n",
              "      <th>age</th>\n",
              "      <th>sex</th>\n",
              "      <th>bmi</th>\n",
              "      <th>bp</th>\n",
              "      <th>s1</th>\n",
              "      <th>s2</th>\n",
              "      <th>s3</th>\n",
              "      <th>s4</th>\n",
              "      <th>s5</th>\n",
              "      <th>s6</th>\n",
              "    </tr>\n",
              "  </thead>\n",
              "  <tbody>\n",
              "    <tr>\n",
              "      <th>0</th>\n",
              "      <td>0.038076</td>\n",
              "      <td>0.050680</td>\n",
              "      <td>0.061696</td>\n",
              "      <td>0.021872</td>\n",
              "      <td>-0.044223</td>\n",
              "      <td>-0.034821</td>\n",
              "      <td>-0.043401</td>\n",
              "      <td>-0.002592</td>\n",
              "      <td>0.019907</td>\n",
              "      <td>-0.017646</td>\n",
              "    </tr>\n",
              "    <tr>\n",
              "      <th>1</th>\n",
              "      <td>-0.001882</td>\n",
              "      <td>-0.044642</td>\n",
              "      <td>-0.051474</td>\n",
              "      <td>-0.026328</td>\n",
              "      <td>-0.008449</td>\n",
              "      <td>-0.019163</td>\n",
              "      <td>0.074412</td>\n",
              "      <td>-0.039493</td>\n",
              "      <td>-0.068332</td>\n",
              "      <td>-0.092204</td>\n",
              "    </tr>\n",
              "    <tr>\n",
              "      <th>2</th>\n",
              "      <td>0.085299</td>\n",
              "      <td>0.050680</td>\n",
              "      <td>0.044451</td>\n",
              "      <td>-0.005670</td>\n",
              "      <td>-0.045599</td>\n",
              "      <td>-0.034194</td>\n",
              "      <td>-0.032356</td>\n",
              "      <td>-0.002592</td>\n",
              "      <td>0.002861</td>\n",
              "      <td>-0.025930</td>\n",
              "    </tr>\n",
              "    <tr>\n",
              "      <th>3</th>\n",
              "      <td>-0.089063</td>\n",
              "      <td>-0.044642</td>\n",
              "      <td>-0.011595</td>\n",
              "      <td>-0.036656</td>\n",
              "      <td>0.012191</td>\n",
              "      <td>0.024991</td>\n",
              "      <td>-0.036038</td>\n",
              "      <td>0.034309</td>\n",
              "      <td>0.022688</td>\n",
              "      <td>-0.009362</td>\n",
              "    </tr>\n",
              "    <tr>\n",
              "      <th>4</th>\n",
              "      <td>0.005383</td>\n",
              "      <td>-0.044642</td>\n",
              "      <td>-0.036385</td>\n",
              "      <td>0.021872</td>\n",
              "      <td>0.003935</td>\n",
              "      <td>0.015596</td>\n",
              "      <td>0.008142</td>\n",
              "      <td>-0.002592</td>\n",
              "      <td>-0.031988</td>\n",
              "      <td>-0.046641</td>\n",
              "    </tr>\n",
              "  </tbody>\n",
              "</table>\n",
              "</div>\n",
              "    <div class=\"colab-df-buttons\">\n",
              "\n",
              "  <div class=\"colab-df-container\">\n",
              "    <button class=\"colab-df-convert\" onclick=\"convertToInteractive('df-467c4d73-8192-4966-b5a8-5f6b5d68de03')\"\n",
              "            title=\"Convert this dataframe to an interactive table.\"\n",
              "            style=\"display:none;\">\n",
              "\n",
              "  <svg xmlns=\"http://www.w3.org/2000/svg\" height=\"24px\" viewBox=\"0 -960 960 960\">\n",
              "    <path d=\"M120-120v-720h720v720H120Zm60-500h600v-160H180v160Zm220 220h160v-160H400v160Zm0 220h160v-160H400v160ZM180-400h160v-160H180v160Zm440 0h160v-160H620v160ZM180-180h160v-160H180v160Zm440 0h160v-160H620v160Z\"/>\n",
              "  </svg>\n",
              "    </button>\n",
              "\n",
              "  <style>\n",
              "    .colab-df-container {\n",
              "      display:flex;\n",
              "      gap: 12px;\n",
              "    }\n",
              "\n",
              "    .colab-df-convert {\n",
              "      background-color: #E8F0FE;\n",
              "      border: none;\n",
              "      border-radius: 50%;\n",
              "      cursor: pointer;\n",
              "      display: none;\n",
              "      fill: #1967D2;\n",
              "      height: 32px;\n",
              "      padding: 0 0 0 0;\n",
              "      width: 32px;\n",
              "    }\n",
              "\n",
              "    .colab-df-convert:hover {\n",
              "      background-color: #E2EBFA;\n",
              "      box-shadow: 0px 1px 2px rgba(60, 64, 67, 0.3), 0px 1px 3px 1px rgba(60, 64, 67, 0.15);\n",
              "      fill: #174EA6;\n",
              "    }\n",
              "\n",
              "    .colab-df-buttons div {\n",
              "      margin-bottom: 4px;\n",
              "    }\n",
              "\n",
              "    [theme=dark] .colab-df-convert {\n",
              "      background-color: #3B4455;\n",
              "      fill: #D2E3FC;\n",
              "    }\n",
              "\n",
              "    [theme=dark] .colab-df-convert:hover {\n",
              "      background-color: #434B5C;\n",
              "      box-shadow: 0px 1px 3px 1px rgba(0, 0, 0, 0.15);\n",
              "      filter: drop-shadow(0px 1px 2px rgba(0, 0, 0, 0.3));\n",
              "      fill: #FFFFFF;\n",
              "    }\n",
              "  </style>\n",
              "\n",
              "    <script>\n",
              "      const buttonEl =\n",
              "        document.querySelector('#df-467c4d73-8192-4966-b5a8-5f6b5d68de03 button.colab-df-convert');\n",
              "      buttonEl.style.display =\n",
              "        google.colab.kernel.accessAllowed ? 'block' : 'none';\n",
              "\n",
              "      async function convertToInteractive(key) {\n",
              "        const element = document.querySelector('#df-467c4d73-8192-4966-b5a8-5f6b5d68de03');\n",
              "        const dataTable =\n",
              "          await google.colab.kernel.invokeFunction('convertToInteractive',\n",
              "                                                    [key], {});\n",
              "        if (!dataTable) return;\n",
              "\n",
              "        const docLinkHtml = 'Like what you see? Visit the ' +\n",
              "          '<a target=\"_blank\" href=https://colab.research.google.com/notebooks/data_table.ipynb>data table notebook</a>'\n",
              "          + ' to learn more about interactive tables.';\n",
              "        element.innerHTML = '';\n",
              "        dataTable['output_type'] = 'display_data';\n",
              "        await google.colab.output.renderOutput(dataTable, element);\n",
              "        const docLink = document.createElement('div');\n",
              "        docLink.innerHTML = docLinkHtml;\n",
              "        element.appendChild(docLink);\n",
              "      }\n",
              "    </script>\n",
              "  </div>\n",
              "\n",
              "\n",
              "<div id=\"df-9b0c6852-9112-4e87-9de7-a51948d413bb\">\n",
              "  <button class=\"colab-df-quickchart\" onclick=\"quickchart('df-9b0c6852-9112-4e87-9de7-a51948d413bb')\"\n",
              "            title=\"Suggest charts\"\n",
              "            style=\"display:none;\">\n",
              "\n",
              "<svg xmlns=\"http://www.w3.org/2000/svg\" height=\"24px\"viewBox=\"0 0 24 24\"\n",
              "     width=\"24px\">\n",
              "    <g>\n",
              "        <path d=\"M19 3H5c-1.1 0-2 .9-2 2v14c0 1.1.9 2 2 2h14c1.1 0 2-.9 2-2V5c0-1.1-.9-2-2-2zM9 17H7v-7h2v7zm4 0h-2V7h2v10zm4 0h-2v-4h2v4z\"/>\n",
              "    </g>\n",
              "</svg>\n",
              "  </button>\n",
              "\n",
              "<style>\n",
              "  .colab-df-quickchart {\n",
              "      --bg-color: #E8F0FE;\n",
              "      --fill-color: #1967D2;\n",
              "      --hover-bg-color: #E2EBFA;\n",
              "      --hover-fill-color: #174EA6;\n",
              "      --disabled-fill-color: #AAA;\n",
              "      --disabled-bg-color: #DDD;\n",
              "  }\n",
              "\n",
              "  [theme=dark] .colab-df-quickchart {\n",
              "      --bg-color: #3B4455;\n",
              "      --fill-color: #D2E3FC;\n",
              "      --hover-bg-color: #434B5C;\n",
              "      --hover-fill-color: #FFFFFF;\n",
              "      --disabled-bg-color: #3B4455;\n",
              "      --disabled-fill-color: #666;\n",
              "  }\n",
              "\n",
              "  .colab-df-quickchart {\n",
              "    background-color: var(--bg-color);\n",
              "    border: none;\n",
              "    border-radius: 50%;\n",
              "    cursor: pointer;\n",
              "    display: none;\n",
              "    fill: var(--fill-color);\n",
              "    height: 32px;\n",
              "    padding: 0;\n",
              "    width: 32px;\n",
              "  }\n",
              "\n",
              "  .colab-df-quickchart:hover {\n",
              "    background-color: var(--hover-bg-color);\n",
              "    box-shadow: 0 1px 2px rgba(60, 64, 67, 0.3), 0 1px 3px 1px rgba(60, 64, 67, 0.15);\n",
              "    fill: var(--button-hover-fill-color);\n",
              "  }\n",
              "\n",
              "  .colab-df-quickchart-complete:disabled,\n",
              "  .colab-df-quickchart-complete:disabled:hover {\n",
              "    background-color: var(--disabled-bg-color);\n",
              "    fill: var(--disabled-fill-color);\n",
              "    box-shadow: none;\n",
              "  }\n",
              "\n",
              "  .colab-df-spinner {\n",
              "    border: 2px solid var(--fill-color);\n",
              "    border-color: transparent;\n",
              "    border-bottom-color: var(--fill-color);\n",
              "    animation:\n",
              "      spin 1s steps(1) infinite;\n",
              "  }\n",
              "\n",
              "  @keyframes spin {\n",
              "    0% {\n",
              "      border-color: transparent;\n",
              "      border-bottom-color: var(--fill-color);\n",
              "      border-left-color: var(--fill-color);\n",
              "    }\n",
              "    20% {\n",
              "      border-color: transparent;\n",
              "      border-left-color: var(--fill-color);\n",
              "      border-top-color: var(--fill-color);\n",
              "    }\n",
              "    30% {\n",
              "      border-color: transparent;\n",
              "      border-left-color: var(--fill-color);\n",
              "      border-top-color: var(--fill-color);\n",
              "      border-right-color: var(--fill-color);\n",
              "    }\n",
              "    40% {\n",
              "      border-color: transparent;\n",
              "      border-right-color: var(--fill-color);\n",
              "      border-top-color: var(--fill-color);\n",
              "    }\n",
              "    60% {\n",
              "      border-color: transparent;\n",
              "      border-right-color: var(--fill-color);\n",
              "    }\n",
              "    80% {\n",
              "      border-color: transparent;\n",
              "      border-right-color: var(--fill-color);\n",
              "      border-bottom-color: var(--fill-color);\n",
              "    }\n",
              "    90% {\n",
              "      border-color: transparent;\n",
              "      border-bottom-color: var(--fill-color);\n",
              "    }\n",
              "  }\n",
              "</style>\n",
              "\n",
              "  <script>\n",
              "    async function quickchart(key) {\n",
              "      const quickchartButtonEl =\n",
              "        document.querySelector('#' + key + ' button');\n",
              "      quickchartButtonEl.disabled = true;  // To prevent multiple clicks.\n",
              "      quickchartButtonEl.classList.add('colab-df-spinner');\n",
              "      try {\n",
              "        const charts = await google.colab.kernel.invokeFunction(\n",
              "            'suggestCharts', [key], {});\n",
              "      } catch (error) {\n",
              "        console.error('Error during call to suggestCharts:', error);\n",
              "      }\n",
              "      quickchartButtonEl.classList.remove('colab-df-spinner');\n",
              "      quickchartButtonEl.classList.add('colab-df-quickchart-complete');\n",
              "    }\n",
              "    (() => {\n",
              "      let quickchartButtonEl =\n",
              "        document.querySelector('#df-9b0c6852-9112-4e87-9de7-a51948d413bb button');\n",
              "      quickchartButtonEl.style.display =\n",
              "        google.colab.kernel.accessAllowed ? 'block' : 'none';\n",
              "    })();\n",
              "  </script>\n",
              "</div>\n",
              "    </div>\n",
              "  </div>\n"
            ]
          },
          "metadata": {},
          "execution_count": 37
        }
      ]
    },
    {
      "cell_type": "code",
      "source": [
        "y.head()"
      ],
      "metadata": {
        "colab": {
          "base_uri": "https://localhost:8080/"
        },
        "id": "ngXSvvM7Lo5p",
        "outputId": "188c2dd0-d184-4ab7-9b55-bd4e852a04e1"
      },
      "execution_count": 38,
      "outputs": [
        {
          "output_type": "execute_result",
          "data": {
            "text/plain": [
              "0    151.0\n",
              "1     75.0\n",
              "2    141.0\n",
              "3    206.0\n",
              "4    135.0\n",
              "Name: target, dtype: float64"
            ]
          },
          "metadata": {},
          "execution_count": 38
        }
      ]
    },
    {
      "cell_type": "code",
      "source": [
        "# Разделим данные на обучающую и тестовую выборки\n",
        "X_train, X_test, y_train, y_test = train_test_split(X, y, test_size=0.1, random_state=42)"
      ],
      "metadata": {
        "id": "zjcPYIPvQIUi"
      },
      "execution_count": 39,
      "outputs": []
    },
    {
      "cell_type": "markdown",
      "source": [
        "Этот набор данных содержит данные о пациентах с сахарным диабетом и содержит определенные характеристики, такие как их ИМТ, возраст, кровяное давление и уровень глюкозы, которые полезны для прогнозирования прогрессирования сахарного диабета у пациентов.\n"
      ],
      "metadata": {
        "id": "SnwjztZKMpAz"
      }
    },
    {
      "cell_type": "markdown",
      "source": [
        "Используем алгоритм PCA для понижения размерности данных путём выявления главных компонент\n"
      ],
      "metadata": {
        "id": "zh-2TwU7NSsz"
      }
    },
    {
      "cell_type": "code",
      "source": [
        "from sklearn.decomposition import PCA\n",
        "\n",
        "pca = PCA(n_components=1)\n",
        "X_train_pca = pca.fit_transform(X_train)\n",
        "X_test_pca = pca.transform(X_test)\n",
        "\n",
        "X_train_pca = X_train_pca.flatten()\n",
        "X_test_pca = X_test_pca.flatten()\n",
        "X_train_pca = pd.Series(X_train_pca)\n",
        "X_test_pca = pd.Series(X_test_pca)\n",
        "# Посмотрим теперь на размерность наших данных\n",
        "print(X_train_pca.shape, X_test_pca.shape, y_train.dtype, X_train_pca.dtype)"
      ],
      "metadata": {
        "colab": {
          "base_uri": "https://localhost:8080/"
        },
        "id": "yH1MIhWgPVlh",
        "outputId": "cc165ca8-a0a0-4a35-b8c6-201aeb7dd3eb"
      },
      "execution_count": 40,
      "outputs": [
        {
          "output_type": "stream",
          "name": "stdout",
          "text": [
            "(397,) (45,) float64 float64\n"
          ]
        }
      ]
    },
    {
      "cell_type": "markdown",
      "source": [
        "Теперь реализуем собственный алгоритм линейной регрессии c функцией потерь MSE и MAE, чтобы затем сравнить их со стандартной реализацией из sklearn"
      ],
      "metadata": {
        "id": "skXtOprOTeXs"
      }
    },
    {
      "cell_type": "markdown",
      "source": [
        "В матричной форме, в случае, когда у нас есть $m$ объектов формулу можно переписать следующим образом:\n",
        "$$ \\vec{y} = X\\vec{w}, $$ где $\\vec{y}$ -- столбец размера $n$, $X$ --- матрица признаков размера $n \\times k$ (каждая строка матрицы есть описание признаков объекта), $\\vec{w}$ -- вектор весов размера $k$.\n",
        "\n",
        "**Лосс:**\n",
        "$$\n",
        "\\begin{aligned}\n",
        "L(\\vec{y}_{pred}, \\vec{y}) &= \\frac{1}{n}||\\vec{y}_{pred} - \\vec{y}||^2_2 =\\\\\n",
        "&= \\frac{1}{n}||X\\vec{w} - \\vec{y}||^2_2 = \\frac{1}{n}\\sum_{i=1}^{n}\\left(\\sum_{j=1}^{m} x_{ij}w_j - y_i\\right)^2 =: L(w)\n",
        "\\end{aligned}\n",
        "$$\n",
        "\n",
        "Наша задача состоит в минимизации функции потерь.\n",
        "$$\n",
        "\\begin{aligned}\n",
        "\\frac{\\partial L}{\\partial \\vec{w}} = \\frac{\\partial}{\\partial \\vec{w}} \\frac{1}{n} \\left(\\vec{y}^{T}\\vec{y} - 2 \\vec{y} X \\vec{w} + \\vec{w}^T X^T X \\vec{w}\\right) = \\frac{1}{n} \\left(-2 X^T \\vec{y} + 2X^T X \\vec{w} \\right) = 0\n",
        "\\end{aligned}\n",
        "$$\n",
        "$$\n",
        "\\begin{aligned}\n",
        "\\frac{\\partial L}{\\partial \\vec{w}} = 0 \\iff\n",
        "\\end{aligned}\n",
        "$$\n",
        "$$\n",
        "\\begin{aligned}\n",
        "\\iff & \\frac{1}{n}\\left( -2X^T \\vec{y} + 2X^T X \\vec{w}\\right) = 0  \\iff\n",
        "\\end{aligned}\n",
        "$$\n",
        "$$\n",
        "\\begin{aligned}\n",
        "\\iff  -X^T \\vec{y} +  X^T X \\vec{w} = 0 \\iff X^T X \\vec{w} = X^T \\vec{y} \\iff  \\vec{w} = (X^T X)^{-1} X^T \\vec{y}\n",
        "\\end{aligned}\n",
        "$$"
      ],
      "metadata": {
        "id": "lQ8JD-7ob415"
      }
    },
    {
      "cell_type": "markdown",
      "source": [
        "Градиент $\\vec{w}$:\n",
        "$$\n",
        "\\frac{\\partial{L}}{\\partial{w}} = \\frac{2}{n}(X^TX \\vec{w} - X^T \\vec{y}) = \\frac{2}{n}X^T(\\vec{y}_{pred} - \\vec{y}) \\,\\,\n",
        "$$"
      ],
      "metadata": {
        "id": "tdPAhmxJmAtK"
      }
    },
    {
      "cell_type": "code",
      "source": [
        "class MyLinearRegressionMSE:\n",
        "    def __init__(self, fit_intercept=True):\n",
        "        self.w = None\n",
        "        self.fit_intercept = fit_intercept\n",
        "\n",
        "    def predict(self, X):\n",
        "        # Принимает на вход X и возвращает ответы модели\n",
        "        # Не забудьте про фиктивный признак равный 1\n",
        "        n, k = X.shape\n",
        "        if self.fit_intercept:\n",
        "            X_train = np.hstack((X, np.ones((n, 1))))\n",
        "\n",
        "        y_pred = X_train @ self.w\n",
        "\n",
        "        return y_pred\n",
        "\n",
        "    def fit(self, X, y, lr=0.01, max_iter=500):\n",
        "        # Принимает на вход X, y и вычисляет веса по данной выборке\n",
        "        n, k = X.shape\n",
        "        # Случайно инициализируем веса\n",
        "        if self.w is None:\n",
        "            self.w = np.random.randn(k + 1 if self.fit_intercept else k)\n",
        "\n",
        "        X_train = np.hstack((X, np.ones((n, 1)))) if self.fit_intercept else X\n",
        "\n",
        "        self.losses = []\n",
        "        for iter_num in range(max_iter):\n",
        "            y_pred = self.predict(X)\n",
        "\n",
        "            self.losses.append(np.sum((y_pred - y) @ (y_pred - y).T))\n",
        "            grad = self._calc_gradient(X_train, y, y_pred)\n",
        "            self.w -= lr * grad\n",
        "        return self\n",
        "\n",
        "    def _calc_gradient(self, X, y, y_pred):\n",
        "        grad = 2 * (y_pred - y)[:, np.newaxis] * X\n",
        "        grad = grad.mean(axis=0)\n",
        "        return grad\n",
        "\n",
        "    def get_losses(self):\n",
        "        return self.losses\n",
        "\n",
        "    def get_weights(self):\n",
        "        return self.w"
      ],
      "metadata": {
        "id": "kJZseIR-Q0rO"
      },
      "execution_count": 41,
      "outputs": []
    },
    {
      "cell_type": "markdown",
      "source": [
        "Убедимся, что наш градиентный спуск работает правильно, построив график функции потерь в зависимости от номера итерации"
      ],
      "metadata": {
        "id": "O2FWG7fUyPXY"
      }
    },
    {
      "cell_type": "code",
      "source": [
        "regressor_MSE = MyLinearRegressionMSE()\n",
        "\n",
        "l = regressor_MSE.fit(X_train_pca[:, np.newaxis], y_train, max_iter=500).get_losses()\n",
        "\n",
        "predictions = regressor_MSE.predict(X_test_pca[:, np.newaxis])\n",
        "w = regressor_MSE.get_weights()"
      ],
      "metadata": {
        "id": "actLzUgayKSk"
      },
      "execution_count": 42,
      "outputs": []
    },
    {
      "cell_type": "code",
      "source": [
        "plt.figure(figsize=(10, 7))\n",
        "plt.plot(l)\n",
        "\n",
        "plt.title('Gradient MSE descent learning')\n",
        "plt.ylabel('MSE loss')\n",
        "plt.xlabel('iteration')\n",
        "plt.ylim(bottom=0)\n",
        "plt.grid(alpha=0.2)\n",
        "\n",
        "plt.show()"
      ],
      "metadata": {
        "colab": {
          "base_uri": "https://localhost:8080/",
          "height": 641
        },
        "id": "fBzeco8iyKwe",
        "outputId": "61730aa1-6eee-49e4-9af6-10843d499857"
      },
      "execution_count": 43,
      "outputs": [
        {
          "output_type": "display_data",
          "data": {
            "text/plain": [
              "<Figure size 1000x700 with 1 Axes>"
            ],
            "image/png": "[encoded data removed]"
          },
          "metadata": {}
        }
      ]
    },
    {
      "cell_type": "markdown",
      "source": [
        "Теперь реализуем алгоритм линейной регрессии с функцией потерь MAE"
      ],
      "metadata": {
        "id": "KrQu_0MKgybW"
      }
    },
    {
      "cell_type": "markdown",
      "source": [
        "**Лосс:**\n",
        "$$\n",
        "\\begin{aligned}\n",
        "L(\\vec{y}_{pred}, \\vec{y}) = \\frac{1}{n} ||\\vec{y}_{pred} - \\vec{y} ||_1 = \\frac{1}{n}||X \\vec{w} - \\vec{y} ||_1\n",
        "\\end{aligned}\n",
        "$$\n",
        "Чтобы посчитать градиент функции потерь MAE по вектору весов, мы можем воспользоваться понятием субградиента, так как функция MAE не является дифференцируемой в некоторых точках. Субградиент MAE по вектору весов w можно определить следующим образом:\n",
        "$$\n",
        "\\frac{\\partial L}{\\partial \\ w_j} = \\frac{1}{n} \\sum_{i = 0}^n \\frac{\\partial |y_i - y_{ipred}|}{\\partial w_j}\n",
        "$$\n",
        "где $\\frac{\\partial |y - y_{pred}|}{\\partial w_j}$  - субдифференциал абсолютной разности.\n",
        "Он принимает значения:\n",
        "$$\n",
        "\\begin{aligned}\n",
        "-1, \\text{если} \\ y - y_{pred} < 0 \\\\\n",
        "0, \\text{если} \\ y - y_{pred} = 0 \\\\\n",
        "1, \\text{если} \\ y - y_{pred} > 0\n",
        "\\end{aligned}\n",
        "$$"
      ],
      "metadata": {
        "id": "8gl5tN8ei-Po"
      }
    },
    {
      "cell_type": "code",
      "source": [
        "class MyLinearRegressionMAE(MyLinearRegressionMSE):\n",
        "    def __init__(self, **kwargs):\n",
        "        super().__init__(**kwargs) # Передача именных параметров родительскому конструктору\n",
        "        self.w = None\n",
        "\n",
        "    def _calc_gradient(self, X, y, w):\n",
        "        y = y.to_numpy()\n",
        "        if y.ndim == 1:\n",
        "            y = y.reshape(-1, 1)\n",
        "        if w.ndim == 1:\n",
        "            w = w.reshape(-1, 1)\n",
        "\n",
        "        diff = X.dot(w) - y\n",
        "\n",
        "        return np.mean(np.where(diff == 0, 0, np.where(diff > 0, 1, -1)))\n",
        "\n",
        "    def fit(self, X, y, lr=0.01, max_iter=500):\n",
        "        # Принимает на вход X, y и вычисляет веса по данной выборке\n",
        "        n, k = X.shape\n",
        "        # Случайно инициализируем веса\n",
        "        if self.w is None:\n",
        "            self.w = np.random.randn(k + 1 if self.fit_intercept else k)\n",
        "\n",
        "        X_train = np.hstack((X, np.ones((n, 1)))) if self.fit_intercept else X\n",
        "\n",
        "        self.losses = []\n",
        "        for iter_num in range(max_iter):\n",
        "            y_pred = self.predict(X)\n",
        "\n",
        "            self.losses.append(np.sum((y_pred - y) @ (y_pred - y).T))\n",
        "            grad = self._calc_gradient(X_train, y, self.w)\n",
        "            self.w -= lr * grad\n",
        "        return self"
      ],
      "metadata": {
        "id": "hc9E3HtLhTKo"
      },
      "execution_count": 44,
      "outputs": []
    },
    {
      "cell_type": "markdown",
      "source": [
        "Также построим график функции потерь для MAE линейной регрессии"
      ],
      "metadata": {
        "id": "GD3ZxuQqzBJt"
      }
    },
    {
      "cell_type": "code",
      "source": [
        "regressor_MAE = MyLinearRegressionMAE()\n",
        "\n",
        "l = regressor_MAE.fit(X_train_pca[:, np.newaxis], y_train, lr=0.1, max_iter=5000).get_losses()\n",
        "predictions = regressor_MAE.predict(X_test_pca[:, np.newaxis])\n",
        "w = regressor_MAE.get_weights()"
      ],
      "metadata": {
        "id": "SgmxWajLk5-d"
      },
      "execution_count": 45,
      "outputs": []
    },
    {
      "cell_type": "code",
      "source": [
        "plt.figure(figsize=(10, 7))\n",
        "plt.plot(l)\n",
        "\n",
        "plt.title('Gradient MAE descent learning')\n",
        "plt.ylabel('MAE loss')\n",
        "plt.xlabel('iteration')\n",
        "plt.ylim(bottom=0)\n",
        "\n",
        "plt.show()"
      ],
      "metadata": {
        "colab": {
          "base_uri": "https://localhost:8080/",
          "height": 641
        },
        "id": "u6zI-3pNu7FE",
        "outputId": "ace1a64a-5e99-4290-d80a-0837e6c51b79"
      },
      "execution_count": 46,
      "outputs": [
        {
          "output_type": "display_data",
          "data": {
            "text/plain": [
              "<Figure size 1000x700 with 1 Axes>"
            ],
            "image/png": "[encoded data removed]"
          },
          "metadata": {}
        }
      ]
    },
    {
      "cell_type": "markdown",
      "source": [
        "Импортируем стандартный алгоритм LinearRegression из sklearn"
      ],
      "metadata": {
        "id": "J_QIl6OAzu7t"
      }
    },
    {
      "cell_type": "code",
      "source": [
        "from sklearn.linear_model import LinearRegression\n",
        "from sklearn.metrics import mean_squared_error, mean_squared_log_error\n",
        "from sklearn.metrics import mean_absolute_error, r2_score\n",
        "\n",
        "# Обучим стандартную LinearRegression модель из sklearn,\n",
        "# И 3 модели с нашей собственной реализацией\n",
        "std_reg = LinearRegression().fit(X_train_pca[:, np.newaxis], y_train)\n",
        "my_reg_mse = MyLinearRegressionMSE().fit(X_train_pca[:, np.newaxis], y_train)\n",
        "my_reg_mae_short = MyLinearRegressionMAE().fit(X_train_pca[:, np.newaxis],\n",
        "                                               y_train, lr=0.1, max_iter=500)\n",
        "my_reg_mae_long = MyLinearRegressionMAE().fit(X_train_pca[:, np.newaxis],\n",
        "                                              y_train, lr=0.1, max_iter=5000)"
      ],
      "metadata": {
        "id": "WHmppIg10FB4"
      },
      "execution_count": 47,
      "outputs": []
    },
    {
      "cell_type": "markdown",
      "source": [
        "Теперь сравним основные метрики качества для собственной реализации и варианта из sklearn"
      ],
      "metadata": {
        "id": "K85GEpy5Y08w"
      }
    },
    {
      "cell_type": "markdown",
      "source": [
        "**1. Mean squared error**"
      ],
      "metadata": {
        "id": "jeGVlGs_ZDOc"
      }
    },
    {
      "cell_type": "code",
      "source": [
        "print(mean_squared_error(\n",
        "    y_test, std_reg.predict(X_test_pca[:, np.newaxis])))\n",
        "print(mean_squared_error(\n",
        "    y_test, my_reg_mae_short.predict(X_test_pca[:, np.newaxis])))\n",
        "print(mean_squared_error(\n",
        "    y_test, my_reg_mae_long.predict(X_test_pca[:, np.newaxis])))\n",
        "print(mean_squared_error(\n",
        "    y_test, my_reg_mse.predict(X_test_pca[:, np.newaxis])))"
      ],
      "metadata": {
        "colab": {
          "base_uri": "https://localhost:8080/"
        },
        "id": "9wUDKKyy4sxo",
        "outputId": "4ddfc0a3-edf2-43b4-cd12-4afe389003dc"
      },
      "execution_count": 48,
      "outputs": [
        {
          "output_type": "stream",
          "name": "stdout",
          "text": [
            "3803.5376922288747\n",
            "16048.313592598144\n",
            "5197.523672443373\n",
            "5788.03280557302\n"
          ]
        }
      ]
    },
    {
      "cell_type": "markdown",
      "source": [
        "**2. Mean squared log error**"
      ],
      "metadata": {
        "id": "nqm_OPSFZOAg"
      }
    },
    {
      "cell_type": "code",
      "source": [
        "print(mean_squared_log_error(\n",
        "    y_test, std_reg.predict(X_test_pca[:, np.newaxis])))\n",
        "print(mean_squared_log_error(\n",
        "    y_test, my_reg_mae_short.predict(X_test_pca[:, np.newaxis])))\n",
        "print(mean_squared_log_error(\n",
        "    y_test, my_reg_mae_long.predict(X_test_pca[:, np.newaxis])))\n",
        "print(mean_squared_log_error(\n",
        "    y_test, my_reg_mse.predict(X_test_pca[:, np.newaxis])))"
      ],
      "metadata": {
        "colab": {
          "base_uri": "https://localhost:8080/"
        },
        "id": "uAPUSydiG-Rh",
        "outputId": "b70cd776-770a-42ec-a18a-294211811f30"
      },
      "execution_count": 49,
      "outputs": [
        {
          "output_type": "stream",
          "name": "stdout",
          "text": [
            "0.21235446246340767\n",
            "1.1304118654197668\n",
            "0.24438801685934589\n",
            "0.2968127500471621\n"
          ]
        }
      ]
    },
    {
      "cell_type": "markdown",
      "source": [
        "**3. Root mean squared error**"
      ],
      "metadata": {
        "id": "M8vJ_AUyZacq"
      }
    },
    {
      "cell_type": "code",
      "source": [
        "print(mean_squared_error(y_test, std_reg.predict(\n",
        "    X_test_pca[:, np.newaxis]), squared=False))\n",
        "print(mean_squared_error(y_test, my_reg_mae_short.predict(\n",
        "    X_test_pca[:, np.newaxis]), squared=False))\n",
        "print(mean_squared_error(y_test, my_reg_mae_long.predict(\n",
        "    X_test_pca[:, np.newaxis]), squared=False))\n",
        "print(mean_squared_error(y_test, my_reg_mse.predict(\n",
        "    X_test_pca[:, np.newaxis]), squared=False))"
      ],
      "metadata": {
        "colab": {
          "base_uri": "https://localhost:8080/"
        },
        "id": "LcTHJVV5Gbks",
        "outputId": "c1bd9d68-d132-4333-c62b-5471ced55757"
      },
      "execution_count": 50,
      "outputs": [
        {
          "output_type": "stream",
          "name": "stdout",
          "text": [
            "61.67282782740609\n",
            "126.68193869924056\n",
            "72.09385322233354\n",
            "76.07912200842632\n"
          ]
        }
      ]
    },
    {
      "cell_type": "markdown",
      "source": [
        "**4. Mean absolute error**"
      ],
      "metadata": {
        "id": "IIFLE-K-Zlh8"
      }
    },
    {
      "cell_type": "code",
      "source": [
        "print(mean_absolute_error(\n",
        "    y_test, std_reg.predict(X_test_pca[:, np.newaxis])))\n",
        "print(mean_absolute_error(\n",
        "    y_test, my_reg_mae_short.predict(X_test_pca[:, np.newaxis])))\n",
        "print(mean_absolute_error(\n",
        "    y_test, my_reg_mae_long.predict(X_test_pca[:, np.newaxis])))\n",
        "print(mean_absolute_error(\n",
        "    y_test, my_reg_mse.predict(X_test_pca[:, np.newaxis])))"
      ],
      "metadata": {
        "colab": {
          "base_uri": "https://localhost:8080/"
        },
        "id": "GqSlNVAdHqMW",
        "outputId": "755a125d-1391-4f3f-a7cf-7b121d1e5f5c"
      },
      "execution_count": 51,
      "outputs": [
        {
          "output_type": "stream",
          "name": "stdout",
          "text": [
            "50.975070178637495\n",
            "102.0710100064128\n",
            "59.38572509414172\n",
            "65.8660338798892\n"
          ]
        }
      ]
    },
    {
      "cell_type": "markdown",
      "source": [
        "**5. R2 score**"
      ],
      "metadata": {
        "id": "1N7jc3HjZwA-"
      }
    },
    {
      "cell_type": "code",
      "source": [
        "print(r2_score(\n",
        "    y_test, std_reg.predict(X_test_pca[:, np.newaxis])))\n",
        "print(r2_score(\n",
        "    y_test, my_reg_mae_short.predict(X_test_pca[:, np.newaxis])))\n",
        "print(r2_score(\n",
        "    y_test, my_reg_mae_long.predict(X_test_pca[:, np.newaxis])))\n",
        "print(r2_score(\n",
        "    y_test, my_reg_mse.predict(X_test_pca[:, np.newaxis])))"
      ],
      "metadata": {
        "colab": {
          "base_uri": "https://localhost:8080/"
        },
        "id": "zWVa-VhjIP2e",
        "outputId": "3fd2775d-e599-4203-e555-7c20b91dad36"
      },
      "execution_count": 52,
      "outputs": [
        {
          "output_type": "stream",
          "name": "stdout",
          "text": [
            "0.37819031341193887\n",
            "-1.6236092955431385\n",
            "0.15029879356811005\n",
            "0.053761220206095195\n"
          ]
        }
      ]
    },
    {
      "cell_type": "markdown",
      "source": [
        "Видим, что наши модели значительно хуже справились с задачей, чем стандартная линейная регрессия из sklearn. Все метрики, посчитанные выше, это отражают. Также они показали, что из реализованных нами алгоритмов лучшего качества достигла MAE линейная регрессия с числом итераций = 5000. Заметим, что MAE линейная регрессия сходится намного медленнее, чем MSE. MAE регрессия за ~3000 итераций градиентного спуска достигает примерно того же качества, что и MSE с числом итераций = 100."
      ],
      "metadata": {
        "id": "2ggqYqktZ3-F"
      }
    },
    {
      "cell_type": "code",
      "source": [
        "plt.figure(figsize=(10, 7))\n",
        "plt.plot(X_test_pca, std_reg.predict(X_test_pca[:, np.newaxis]),\n",
        "         label='predicted by sklearn linear regression', c='g')\n",
        "plt.plot(X_test_pca, my_reg_mae_long.predict(X_test_pca[:, np.newaxis]),\n",
        "         label='predicted by my MAE \"long\" linear regression', c='r')\n",
        "plt.plot(X_test_pca, my_reg_mae_short.predict(X_test_pca[:, np.newaxis]),\n",
        "         label='predicted by my MAE \"short\" linear regression', c='y')\n",
        "plt.plot(X_test_pca, my_reg_mse.predict(X_test_pca[:, np.newaxis]),\n",
        "         label='predicted by my MSE linear regression', c='b')\n",
        "\n",
        "plt.scatter(X_train_pca, y_train, label='train', c='b')\n",
        "plt.scatter(X_test_pca, y_test, label='test', c='orange')\n",
        "\n",
        "plt.title(\"Generated dataset\")\n",
        "plt.grid(alpha=0.2)\n",
        "plt.legend()\n",
        "plt.show()"
      ],
      "metadata": {
        "colab": {
          "base_uri": "https://localhost:8080/",
          "height": 622
        },
        "id": "79ZO2MPXJBqp",
        "outputId": "326dfa66-962c-47d9-8dc6-5d4a014ce969"
      },
      "execution_count": 53,
      "outputs": [
        {
          "output_type": "display_data",
          "data": {
            "text/plain": [
              "<Figure size 1000x700 with 1 Axes>"
            ],
            "image/png": "[encoded data removed]"
          },
          "metadata": {}
        }
      ]
    },
    {
      "cell_type": "markdown",
      "source": [
        "Посмотрев на график, можно понять, что данных недостаточно, чтобы обучить линейные модели, реализованные нами. Видно, как проявляется переобучение у наших моделей. Зелёная прямая, соответствующая стандартной реализации из sklearn отражает глобальную закономерность распределения данных. В то время как наша MSE реализация подстроилась под обучающую выборку, стараясь минимизировать квадраты ошибок."
      ],
      "metadata": {
        "id": "bLfhciHHdOn4"
      }
    }
  ]
}